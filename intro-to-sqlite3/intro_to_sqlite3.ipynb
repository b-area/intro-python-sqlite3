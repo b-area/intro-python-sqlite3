{
 "cells": [
  {
   "cell_type": "markdown",
   "metadata": {},
   "source": [
    "# Introduction to the `sqlite3` library"
   ]
  },
  {
   "cell_type": "markdown",
   "metadata": {},
   "source": [
    "**`SQLite`** is a C library that provides a lightweight disk-based database that doesn’t require a separate server process. Applications can use SQLite for internal data storage. It’s also possible to prototype an application using SQLite and then later port the application to a production database system.   \n",
    "\n",
    "`SQLite` databases are stored in a file on disk (usually with a `.db` extension). If you attempt to connect to a database file that doesn't exist, `SQLite` with create a new database, assign it the name you passed to the connect function and save it to your current working directory. "
   ]
  },
  {
   "cell_type": "markdown",
   "metadata": {},
   "source": [
    "Typical sqlite setup and usage in Python is as follows:\n",
    "\n",
    "*  **Create a connection object** - For `SQLite`, pass the database filepath instead of authentication details:\n",
    "\n",
    "            db = sqlite3.connect(<filename>.db)\n",
    "            \n",
    "*  **Define a cursor** - Call the `cursor()` method on the connection object created above:\n",
    "\n",
    "            cursor = db.cursor()  \n",
    "            \n",
    "*  **Construct a query for the dataset of interest** - This can be almost any valid SQL command:\n",
    "\n",
    "            SQL = \"SELECT * FROM SAMPLE_TABLE\"  \n",
    "            \n",
    "*  **Pass the query string to the cursor's `execute` method:**\n",
    "\n",
    "            cursor.execute(SQL) \n",
    "            \n",
    "            \n",
    "*  **Iterate over the cursor** - Using a `for` loop, list comprehensions, etc...  \n",
    "\n",
    "  \n",
    "The result will be a list of tuples, so data elements can be accessed by row or selectively by referencing components by index offset: \n",
    "\n",
    "    for record in cursor: print(record)"
   ]
  },
  {
   "cell_type": "markdown",
   "metadata": {},
   "source": [
    "**Creating Databases and Tables**\n",
    "--------------------"
   ]
  },
  {
   "cell_type": "markdown",
   "metadata": {},
   "source": [
    "If the database file passed to the `sqlite3.connect` method doesn't exist, a new database with the name specified will be created. The following example creates a database consisting of 2 tables: The first table holds closing stock prices, the second contains a mapping between ticker symbols and company names:"
   ]
  },
  {
   "cell_type": "markdown",
   "metadata": {},
   "source": [
    "NOTE: For more information on `SQLite` datatypes and the resulting affinity mappings of common datatypes for   \n",
    "other RDBMS, follow this link and navigate to the *Affinity Name Examples* section:  \n",
    "\n",
    "https://www.sqlite.org/datatype3.html"
   ]
  },
  {
   "cell_type": "code",
   "execution_count": null,
   "metadata": {
    "collapsed": true
   },
   "outputs": [],
   "source": [
    "\"\"\"\n",
    "=====================================\n",
    "Toyota sales table                   |\n",
    "=====================================\n",
    "Table name: `TOYOTA_SALES`          |\n",
    "\n",
    "Fields: \n",
    "      price           REAL          |\n",
    "      age             INTEGER       |\n",
    "      mileage         INTEGER       |\n",
    "      fuel_type       TEXT          |\n",
    "      horse_power     INTEGER       |\n",
    "      metalic_color   INTEGER       |\n",
    "      automatic       INTEGER       |\n",
    "      CC              INTEGER       |\n",
    "      doors           INTEGER       |\n",
    "      quarterly_tax   INTEGER       |\n",
    "      weight          INTEGER       |\n",
    "------------------------------------\n",
    "\n",
    "First two rows from toyota_sales.csv:\n",
    "\n",
    "price, age, mileage, fuel_Type, horse_Power, metalic_color,  automatic, CC,   doors, quarterly_tax, weight\n",
    "13500, 23,  46986,   Diesel,    90,          1,              0,         2000, 3,     210,           1165\n",
    "           \n",
    "\"\"\"\n",
    "import sqlite3\n",
    "\n",
    "# Create new database `sales.db`. Notice `sales.db` is now \n",
    "# listed in your working directory:\n",
    "db = sqlite3.connect(\"sales.db\")\n",
    "\n",
    "# Initiate a cursor, and call the connection's cursor method:\n",
    "cursor = db.cursor()\n",
    "\n",
    "# Table structures for toyta sale\n",
    "sales_table = \"\"\"CREATE TABLE TOYOTA_SALES (\n",
    "            price           REAL,          \n",
    "            age             INTEGER,       \n",
    "            mileage         INTEGER,       \n",
    "            fuel_type       TEXT,          \n",
    "            horse_power     INTEGER,       \n",
    "            metalic_color   INTEGER,       \n",
    "            automatic       INTEGER,       \n",
    "            CC              INTEGER,       \n",
    "            doors           INTEGER,       \n",
    "            quarterly_tax   INTEGER,       \n",
    "            weight          INTEGER )\"\"\"\n",
    "\n",
    "# Call the `cursor.execute` method, passing sales_table as argument:\n",
    "cursor.execute(sales_table)\n",
    "\n",
    "# IMPORTANT! Be sure to commit changes you want to persist.\n",
    "# Without commiting, changes will not be saved:\n",
    "db.commit()\n",
    "\n",
    "# close connection to `sales.db`:\n",
    "db.close()"
   ]
  },
  {
   "cell_type": "markdown",
   "metadata": {},
   "source": [
    "To verify that your tables have been created, run the following:"
   ]
  },
  {
   "cell_type": "code",
   "execution_count": null,
   "metadata": {
    "collapsed": false
   },
   "outputs": [],
   "source": [
    "# Re-connect to `sales.db`:\n",
    "db     = sqlite3.connect('sales.db')\n",
    "cursor = db.cursor()\n",
    "cursor.execute(\"SELECT name FROM sqlite_master WHERE type='table'\")\n",
    "print(cursor.fetchall())\n",
    "db.close()"
   ]
  },
  {
   "cell_type": "markdown",
   "metadata": {},
   "source": [
    "**Loading Data into `SQLite` Database Tables**\n",
    "--"
   ]
  },
  {
   "cell_type": "markdown",
   "metadata": {},
   "source": [
    "The following example demonstrates two methods of loading data into `SQLite` tables. The first method assumes the data is already available in memory in the current Python session. The second method assumes data is being loaded from a .csv file:"
   ]
  },
  {
   "cell_type": "markdown",
   "metadata": {},
   "source": [
    "####  Method #1: Data already avialable in Python session "
   ]
  },
  {
   "cell_type": "code",
   "execution_count": null,
   "metadata": {
    "collapsed": true
   },
   "outputs": [],
   "source": [
    "# Reestablish connection to `sales.db` database:\n",
    "db     = sqlite3.connect('sales.db')\n",
    "cursor = db.cursor()\n",
    "\n",
    "# Insert two records into `TOYOTA_SALES` table\n",
    "#9900,64,41200,Petrol,110,0,0,1600,5,85,1070\n",
    "#10950,57,40214,Petrol,86,0,0,1300,3,69,1025\n",
    "\n",
    "\n",
    "# Single records can be inserted using the `cursor.execute` method:\n",
    "cursor.execute(\"INSERT INTO TOYOTA_SALES VALUES (9900, 64, 41200, 'Petrol', 110, 0, 0, 1600, 5, 85, 1070)\")\n",
    "cursor.execute(\"INSERT INTO TOYOTA_SALES VALUES (10950, 57, 40214, 'Petrol', 86, 0, 0, 1300, 3, 69, 1025)\")\n",
    "\n",
    "# Not forgetting to commit changes and close connection:\n",
    "db.commit()\n",
    "db.close()"
   ]
  },
  {
   "cell_type": "markdown",
   "metadata": {},
   "source": [
    "\n",
    "We can also insert multiple records at once using lists"
   ]
  },
  {
   "cell_type": "code",
   "execution_count": null,
   "metadata": {
    "collapsed": true
   },
   "outputs": [],
   "source": [
    "# Reestablish connection to `sales.db` database:\n",
    "db     = sqlite3.connect('sales.db')\n",
    "cursor = db.cursor()\n",
    "\n",
    "# We can insert several records at once if we create a list \n",
    "# of tuples of the data to insert, then call `cursor.executemany`:\n",
    "sales_records = [(12950, 23, 71138, 'Diesel', 69, 0, 0, 1900, 3, 185, 1105),\n",
    "               (9950, 63, 41586, 'Petrol', 110, 1, 0, 1600, 5, 19, 1114),\n",
    "               (9950, 67, 42102, 'Petrol', 110, 1, 0, 1600, 5, 85, 1075)]\n",
    "\n",
    "# Calling `cursor.executemany`\n",
    "cursor.executemany(\"INSERT INTO TOYOTA_SALES VALUES (?, ?, ?, ?, ?, ?, ?, ?, ?, ?, ?)\", sales_records)\n",
    "\n",
    "# Not forgetting to commit changes and close connection:\n",
    "db.commit()\n",
    "db.close()"
   ]
  },
  {
   "cell_type": "markdown",
   "metadata": {},
   "source": [
    "The `(?,?,?)` in `cursor.executemany` serve as placeholders for columns in the target table. There should be one `?` for each column in the target table. The more common scenario may be loading data from file into an `SQLite` database table. The syntax is similiar, with added file handling logic:"
   ]
  },
  {
   "cell_type": "markdown",
   "metadata": {},
   "source": [
    "####  Method #1: Data read in from .csv "
   ]
  },
  {
   "cell_type": "code",
   "execution_count": null,
   "metadata": {
    "collapsed": false
   },
   "outputs": [],
   "source": [
    "# Requires `ticker_data.csv` file\n",
    "import sqlite3\n",
    "import csv\n",
    "\n",
    "# Reestablish connection to the database:\n",
    "db     = sqlite3.connect('sales.db')\n",
    "cursor = db.cursor()\n",
    "\n",
    "# Open `ticker_data.csv`, and create a csv.reader instance:\n",
    "with open('toyota_sales.csv', 'r') as f:  # on Windows, change `r` to `rb`\n",
    "    \n",
    "    fcsv = csv.reader(f)\n",
    "    \n",
    "    # `recs_to_load` is a list of records contained in `ticker_data.csv`:\n",
    "    recs_to_load = [record for record in fcsv]\n",
    "\n",
    "    # call `cursor.executemany`, specifying `recs_to_load`\n",
    "    cursor.executemany(\"INSERT INTO TOYOTA_SALES VALUES (?, ?, ?, ?, ?, ?, ?, ?, ?, ?, ?)\", recs_to_load)\n",
    "\n",
    "# Not forgetting to commit changes and close connection:\n",
    "db.commit()\n",
    "db.close()"
   ]
  },
  {
   "cell_type": "markdown",
   "metadata": {},
   "source": [
    "**`SQLite` Data Retrieval**\n",
    "=================="
   ]
  },
  {
   "cell_type": "markdown",
   "metadata": {},
   "source": [
    "Retrieval of `SQLite` database records is carried out in exactly the same as with `cx_Oracle`. An iterator in the form  \n",
    "of a database cursor is returned, which is traversed, yielding the query is question's result set:"
   ]
  },
  {
   "cell_type": "code",
   "execution_count": null,
   "metadata": {
    "collapsed": false
   },
   "outputs": [],
   "source": [
    "import sqlite3\n",
    "\n",
    "# reestablish connection to `sales.db` database:\n",
    "db     = sqlite3.connect('sales.db')\n",
    "cursor = db.cursor()\n",
    "\n",
    "#construct a query to retrieve data from `TOYOTA_SALES`:\n",
    "SQL = \"SELECT * FROM TOYOTA_SALES\"\n",
    "\n",
    "# call `cursor.execute` on query string:\n",
    "cursor.execute(SQL)\n",
    "\n",
    "# `cursor` can be iterated over:\n",
    "for rec in cursor:\n",
    "    print(rec)\n",
    "    \n",
    "# not forgetting to commit changes and close connection:   \n",
    "db.commit()\n",
    "db.close()\n"
   ]
  },
  {
   "cell_type": "markdown",
   "metadata": {},
   "source": [
    "Headers need to be extracted from the `cursor.description` attribute:"
   ]
  },
  {
   "cell_type": "code",
   "execution_count": null,
   "metadata": {
    "collapsed": false
   },
   "outputs": [],
   "source": [
    "# Obtain reference to table headers:\n",
    "import sqlite3\n",
    "\n",
    "# Reestablish connection to `sales.db` database:\n",
    "db     = sqlite3.connect('sales.db')\n",
    "cursor = db.cursor()\n",
    "\n",
    "#construct a query to retrieve data from `TOYOTA_SALES`:\n",
    "SQL = \"SELECT * FROM TOYOTA_SALES\"\n",
    "\n",
    "# Call `cursor.execute` on SQL:\n",
    "cursor.execute(SQL)\n",
    "\n",
    "# Capture table headers into `headers` list:\n",
    "headers = [i[0] for i in cursor.description]\n",
    "   \n",
    "# Not forgetting to commit changes and close connection:   \n",
    "db.commit()\n",
    "db.close()\n",
    "\n",
    "print(\"TOYOTA_SALES table fieldnames: {}\".format(headers))\n",
    "\n"
   ]
  },
  {
   "cell_type": "markdown",
   "metadata": {},
   "source": [
    "**Useful Links:**\n",
    "---------------\n",
    "\n",
    "*  Python `sqlite3` library documentation: https://docs.python.org/3/library/sqlite3.html#module-sqlite3   \n",
    "*  `SQLite` Documentation: https://www.sqlite.org/docs.html   \n",
    "*  Well-known users of `SQLite`: https://www.sqlite.org/famous.html  "
   ]
  },
  {
   "cell_type": "markdown",
   "metadata": {},
   "source": [
    "# Exercise 1\n",
    "\n",
    "1. Create a database named \"*stocks*\" \n",
    "2. Create a table called \"*stocks-500*\" using the same column names and structures used in the \"*Stocks500.csv*\" file.\n",
    "3. Import the \"*Stocks500.csv*\" file into the \"*stocks-500*\" table."
   ]
  },
  {
   "cell_type": "markdown",
   "metadata": {},
   "source": [
    "# Exercise 2\n",
    "\n",
    "1. Create a database named \"*funds*\" \n",
    "2. Create a table called \"*mutual-funds*\" using the same column names and structures used in the \"*MutualFunds.csv*\" file.\n",
    "3. Import the \"*MutualFunds.csv*\" file into the \"*mutual-funds*\" table."
   ]
  }
 ],
 "metadata": {
  "anaconda-cloud": {},
  "kernelspec": {
   "display_name": "Python [conda root]",
   "language": "python",
   "name": "conda-root-py"
  },
  "language_info": {
   "codemirror_mode": {
    "name": "ipython",
    "version": 2
   },
   "file_extension": ".py",
   "mimetype": "text/x-python",
   "name": "python",
   "nbconvert_exporter": "python",
   "pygments_lexer": "ipython2",
   "version": "2.7.12"
  }
 },
 "nbformat": 4,
 "nbformat_minor": 0
}
